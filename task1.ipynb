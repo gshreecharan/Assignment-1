{
 "cells": [
  {
   "cell_type": "code",
   "execution_count": null,
   "metadata": {
    "_cell_guid": "b1076dfc-b9ad-4769-8c92-a6c4dae69d19",
    "_uuid": "8f2839f25d086af736a60e9eeb907d3b93b6e0e5",
    "execution": {
     "iopub.execute_input": "2025-06-15T12:08:22.048331Z",
     "iopub.status.busy": "2025-06-15T12:08:22.048064Z",
     "iopub.status.idle": "2025-06-15T12:08:50.645368Z",
     "shell.execute_reply": "2025-06-15T12:08:50.644509Z",
     "shell.execute_reply.started": "2025-06-15T12:08:22.048308Z"
    },
    "trusted": true
   },
   "outputs": [
    {
     "name": "stdout",
     "output_type": "stream",
     "text": [
      "Enter task1 to  perform:  coding\n",
      "Enter task2 to  perform:  practicing\n",
      "Enter task3 to  perform:  writing\n",
      "update task2 name:  reading\n"
     ]
    },
    {
     "name": "stdout",
     "output_type": "stream",
     "text": [
      "{'task1': 'coding', 'task2': 'reading'}\n"
     ]
    }
   ],
   "source": [
    "Manage_tasks ={ \n",
    "    \"task1\" : input(\"Enter task1 to  perform: \"),\n",
    "    \"task2\" :input(\"Enter task2 to  perform: \"),\n",
    "    \"task3\" :input(\"Enter task3 to  perform: \")\n",
    " }\n",
    "Manage_tasks[\"task2\"] =input(\"update task2 name: \")\n",
    "del Manage_tasks[\"task3\"]\n",
    "# Manage_tasks.split()\n",
    "print(Manage_tasks)\n"
   ]
  }
 ],
 "metadata": {
  "kaggle": {
   "accelerator": "none",
   "dataSources": [],
   "dockerImageVersionId": 31040,
   "isGpuEnabled": false,
   "isInternetEnabled": false,
   "language": "python",
   "sourceType": "notebook"
  },
  "kernelspec": {
   "display_name": "Python 3",
   "language": "python",
   "name": "python3"
  },
  "language_info": {
   "codemirror_mode": {
    "name": "ipython",
    "version": 3
   },
   "file_extension": ".py",
   "mimetype": "text/x-python",
   "name": "python",
   "nbconvert_exporter": "python",
   "pygments_lexer": "ipython3",
   "version": "3.11.11"
  }
 },
 "nbformat": 4,
 "nbformat_minor": 4
}
