{
 "cells": [
  {
   "cell_type": "code",
   "execution_count": null,
   "metadata": {
    "_cell_guid": "b1076dfc-b9ad-4769-8c92-a6c4dae69d19",
    "_uuid": "8f2839f25d086af736a60e9eeb907d3b93b6e0e5",
    "trusted": true
   },
   "outputs": [],
   "source": [
    "# # This Python 3 environment comes with many helpful analytics libraries installed\n",
    "# # It is defined by the kaggle/python Docker image: https://github.com/kaggle/docker-python\n",
    "# # For example, here's several helpful packages to load\n",
    "\n",
    "# import numpy as np # linear algebra\n",
    "# import pandas as pd # data processing, CSV file I/O (e.g. pd.read_csv)\n",
    "\n",
    "# # Input data files are available in the read-only \"../input/\" directory\n",
    "# # For example, running this (by clicking run or pressing Shift+Enter) will list all files under the input directory\n",
    "\n",
    "# import os\n",
    "# for dirname, _, filenames in os.walk('/kaggle/input'):\n",
    "#     for filename in filenames:\n",
    "#         print(os.path.join(dirname, filename))\n",
    "\n",
    "# # You can write up to 20GB to the current directory (/kaggle/working/) that gets preserved as output when you create a version using \"Save & Run All\" \n",
    "# # You can also write temporary files to /kaggle/temp/, but they won't be saved outside of the current session"
   ]
  },
  {
   "cell_type": "code",
   "execution_count": 1,
   "metadata": {
    "execution": {
     "iopub.execute_input": "2025-06-09T04:53:15.818020Z",
     "iopub.status.busy": "2025-06-09T04:53:15.817732Z",
     "iopub.status.idle": "2025-06-09T04:53:22.887318Z",
     "shell.execute_reply": "2025-06-09T04:53:22.886227Z",
     "shell.execute_reply.started": "2025-06-09T04:53:15.817993Z"
    },
    "trusted": true
   },
   "outputs": [
    {
     "name": "stdout",
     "output_type": "stream",
     "text": [
      "enter your full name chellarapu bhavya\n"
     ]
    },
    {
     "name": "stdout",
     "output_type": "stream",
     "text": [
      "your first name :  chellarapu\n"
     ]
    }
   ],
   "source": [
    "user_name=input(\"enter your full name\")\n",
    "find_space=user_name.find(\" \")\n",
    "first_name=user_name[:find_space]\n",
    "print(\"your first name : \",first_name)"
   ]
  },
  {
   "cell_type": "code",
   "execution_count": 6,
   "metadata": {
    "execution": {
     "iopub.execute_input": "2025-06-09T05:01:37.486831Z",
     "iopub.status.busy": "2025-06-09T05:01:37.486435Z",
     "iopub.status.idle": "2025-06-09T05:01:42.417747Z",
     "shell.execute_reply": "2025-06-09T05:01:42.416300Z",
     "shell.execute_reply.started": "2025-06-09T05:01:37.486804Z"
    },
    "trusted": true
   },
   "outputs": [
    {
     "name": "stdout",
     "output_type": "stream",
     "text": [
      "enter your city name : vizag\n"
     ]
    },
    {
     "name": "stdout",
     "output_type": "stream",
     "text": [
      "VIZAG\n",
      "vizag\n",
      "Vizag\n"
     ]
    }
   ],
   "source": [
    "city_name=input(\"enter your city name :\")\n",
    "print(f\"{city_name.upper()}\\n{city_name.lower()}\\n{city_name.title()}\")\n"
   ]
  },
  {
   "cell_type": "code",
   "execution_count": 8,
   "metadata": {
    "execution": {
     "iopub.execute_input": "2025-06-09T05:03:03.429283Z",
     "iopub.status.busy": "2025-06-09T05:03:03.428903Z",
     "iopub.status.idle": "2025-06-09T05:03:03.435981Z",
     "shell.execute_reply": "2025-06-09T05:03:03.434502Z",
     "shell.execute_reply.started": "2025-06-09T05:03:03.429253Z"
    },
    "trusted": true
   },
   "outputs": [
    {
     "name": "stdout",
     "output_type": "stream",
     "text": [
      "ygolonhceT\n"
     ]
    }
   ],
   "source": [
    "str='Technology'\n",
    "v=str[::-1]\n",
    "print(v)"
   ]
  },
  {
   "cell_type": "code",
   "execution_count": 9,
   "metadata": {
    "execution": {
     "iopub.execute_input": "2025-06-09T05:04:32.992625Z",
     "iopub.status.busy": "2025-06-09T05:04:32.992278Z",
     "iopub.status.idle": "2025-06-09T05:04:32.998125Z",
     "shell.execute_reply": "2025-06-09T05:04:32.996772Z",
     "shell.execute_reply.started": "2025-06-09T05:04:32.992601Z"
    },
    "trusted": true
   },
   "outputs": [
    {
     "name": "stdout",
     "output_type": "stream",
     "text": [
      "Data - Science\n"
     ]
    }
   ],
   "source": [
    "str='Data'\n",
    "str1='Science'\n",
    "print(f\"{str} - {str1}\")"
   ]
  },
  {
   "cell_type": "code",
   "execution_count": 17,
   "metadata": {
    "execution": {
     "iopub.execute_input": "2025-06-09T05:26:59.209823Z",
     "iopub.status.busy": "2025-06-09T05:26:59.209459Z",
     "iopub.status.idle": "2025-06-09T05:27:04.681888Z",
     "shell.execute_reply": "2025-06-09T05:27:04.680821Z",
     "shell.execute_reply.started": "2025-06-09T05:26:59.209799Z"
    },
    "trusted": true
   },
   "outputs": [
    {
     "name": "stdout",
     "output_type": "stream",
     "text": [
      "enter the product price 666.66\n"
     ]
    },
    {
     "name": "stdout",
     "output_type": "stream",
     "text": [
      "the product price is $666.66\n"
     ]
    }
   ],
   "source": [
    "product_price=float(input(\"enter the product price\"))\n",
    "print(\"the product price is ${:.2f}\".format(product_price))"
   ]
  },
  {
   "cell_type": "code",
   "execution_count": 19,
   "metadata": {
    "execution": {
     "iopub.execute_input": "2025-06-09T05:32:50.778108Z",
     "iopub.status.busy": "2025-06-09T05:32:50.777749Z",
     "iopub.status.idle": "2025-06-09T05:32:50.785173Z",
     "shell.execute_reply": "2025-06-09T05:32:50.783559Z",
     "shell.execute_reply.started": "2025-06-09T05:32:50.778072Z"
    },
    "trusted": true
   },
   "outputs": [
    {
     "name": "stdout",
     "output_type": "stream",
     "text": [
      "my name is bhavya my age is22 \n"
     ]
    }
   ],
   "source": [
    "name=\"bhavya\"\n",
    "age=\"22\"\n",
    "print(f\"my name is {name} my age is{age} \")"
   ]
  },
  {
   "cell_type": "code",
   "execution_count": 26,
   "metadata": {
    "execution": {
     "iopub.execute_input": "2025-06-09T05:38:50.224673Z",
     "iopub.status.busy": "2025-06-09T05:38:50.224290Z",
     "iopub.status.idle": "2025-06-09T05:38:50.230164Z",
     "shell.execute_reply": "2025-06-09T05:38:50.229271Z",
     "shell.execute_reply.started": "2025-06-09T05:38:50.224646Z"
    },
    "trusted": true
   },
   "outputs": [
    {
     "name": "stdout",
     "output_type": "stream",
     "text": [
      "True\n"
     ]
    }
   ],
   "source": [
    "sentence=\"Python is awesome\"\n",
    "result=\"Python\" in sentence\n",
    "print(result)\n"
   ]
  },
  {
   "cell_type": "code",
   "execution_count": 31,
   "metadata": {
    "execution": {
     "iopub.execute_input": "2025-06-09T05:43:17.979260Z",
     "iopub.status.busy": "2025-06-09T05:43:17.978921Z",
     "iopub.status.idle": "2025-06-09T05:43:27.606553Z",
     "shell.execute_reply": "2025-06-09T05:43:27.605426Z",
     "shell.execute_reply.started": "2025-06-09T05:43:17.979239Z"
    },
    "trusted": true
   },
   "outputs": [
    {
     "name": "stdout",
     "output_type": "stream",
     "text": [
      "enter any sentence height in meters\n"
     ]
    },
    {
     "name": "stdout",
     "output_type": "stream",
     "text": [
      "16\n"
     ]
    }
   ],
   "source": [
    "user=input(\"enter any sentence\")\n",
    "v=len(user.strip())\n",
    "print(v)"
   ]
  },
  {
   "cell_type": "code",
   "execution_count": 37,
   "metadata": {
    "execution": {
     "iopub.execute_input": "2025-06-09T06:02:53.800406Z",
     "iopub.status.busy": "2025-06-09T06:02:53.800052Z",
     "iopub.status.idle": "2025-06-09T06:02:53.806138Z",
     "shell.execute_reply": "2025-06-09T06:02:53.804907Z",
     "shell.execute_reply.started": "2025-06-09T06:02:53.800383Z"
    },
    "trusted": true
   },
   "outputs": [
    {
     "name": "stdout",
     "output_type": "stream",
     "text": [
      "210.0\n"
     ]
    }
   ],
   "source": [
    "price=200\n",
    "final_price=price+(price*0.05)\n",
    "print(final_price)"
   ]
  },
  {
   "cell_type": "code",
   "execution_count": 33,
   "metadata": {
    "execution": {
     "iopub.execute_input": "2025-06-09T05:56:58.472161Z",
     "iopub.status.busy": "2025-06-09T05:56:58.471801Z",
     "iopub.status.idle": "2025-06-09T05:56:58.478236Z",
     "shell.execute_reply": "2025-06-09T05:56:58.477083Z",
     "shell.execute_reply.started": "2025-06-09T05:56:58.472138Z"
    },
    "trusted": true
   },
   "outputs": [
    {
     "name": "stdout",
     "output_type": "stream",
     "text": [
      "(True, True)\n"
     ]
    }
   ],
   "source": [
    "name='Alice'\n",
    "res='i' in name ,'z' not in name\n",
    "print(res)"
   ]
  },
  {
   "cell_type": "code",
   "execution_count": 34,
   "metadata": {
    "execution": {
     "iopub.execute_input": "2025-06-09T05:59:53.386474Z",
     "iopub.status.busy": "2025-06-09T05:59:53.385477Z",
     "iopub.status.idle": "2025-06-09T06:00:01.229777Z",
     "shell.execute_reply": "2025-06-09T06:00:01.227974Z",
     "shell.execute_reply.started": "2025-06-09T05:59:53.386439Z"
    },
    "trusted": true
   },
   "outputs": [
    {
     "name": "stdout",
     "output_type": "stream",
     "text": [
      " 10\n",
      " 10\n",
      " 10\n"
     ]
    },
    {
     "name": "stdout",
     "output_type": "stream",
     "text": [
      "10.0\n"
     ]
    }
   ],
   "source": [
    "user1=int(input())\n",
    "user2=int(input())\n",
    "user3=int(input())\n",
    "avg=(user1+user2+user3)/3\n",
    "print(avg)"
   ]
  },
  {
   "cell_type": "code",
   "execution_count": 42,
   "metadata": {
    "execution": {
     "iopub.execute_input": "2025-06-09T06:16:50.564665Z",
     "iopub.status.busy": "2025-06-09T06:16:50.564262Z",
     "iopub.status.idle": "2025-06-09T06:17:24.000929Z",
     "shell.execute_reply": "2025-06-09T06:17:23.999817Z",
     "shell.execute_reply.started": "2025-06-09T06:16:50.564628Z"
    },
    "trusted": true
   },
   "outputs": [
    {
     "name": "stdout",
     "output_type": "stream",
     "text": [
      "enter your height 15\n",
      "enter your weight 70\n"
     ]
    },
    {
     "name": "stdout",
     "output_type": "stream",
     "text": [
      "the bmi of the user is 0.31\n"
     ]
    }
   ],
   "source": [
    "height=float(input(\"enter your height\"))\n",
    "weight=float(input(\"enter your weight\"))\n",
    "bmi=weight/(height**2)\n",
    "print(\"the bmi of the user is {:.2f}\".format(bmi))\n"
   ]
  },
  {
   "cell_type": "code",
   "execution_count": 43,
   "metadata": {
    "execution": {
     "iopub.execute_input": "2025-06-09T06:18:32.327006Z",
     "iopub.status.busy": "2025-06-09T06:18:32.326684Z",
     "iopub.status.idle": "2025-06-09T06:18:32.332361Z",
     "shell.execute_reply": "2025-06-09T06:18:32.331409Z",
     "shell.execute_reply.started": "2025-06-09T06:18:32.326984Z"
    },
    "trusted": true
   },
   "outputs": [
    {
     "name": "stdout",
     "output_type": "stream",
     "text": [
      "love \n"
     ]
    }
   ],
   "source": [
    "str1=\"I love Python\"\n",
    "v=str1[2:7]\n",
    "print(v)"
   ]
  },
  {
   "cell_type": "code",
   "execution_count": 45,
   "metadata": {
    "execution": {
     "iopub.execute_input": "2025-06-09T06:20:28.821285Z",
     "iopub.status.busy": "2025-06-09T06:20:28.820922Z",
     "iopub.status.idle": "2025-06-09T06:20:28.827434Z",
     "shell.execute_reply": "2025-06-09T06:20:28.826181Z",
     "shell.execute_reply.started": "2025-06-09T06:20:28.821261Z"
    },
    "trusted": true
   },
   "outputs": [
    {
     "name": "stdout",
     "output_type": "stream",
     "text": [
      "This is a good idea\n"
     ]
    }
   ],
   "source": [
    "str1='This is a bad idea'\n",
    "v=str1.replace('bad',\"good\")\n",
    "print(v)"
   ]
  },
  {
   "cell_type": "code",
   "execution_count": 47,
   "metadata": {
    "execution": {
     "iopub.execute_input": "2025-06-09T06:25:44.683579Z",
     "iopub.status.busy": "2025-06-09T06:25:44.683217Z",
     "iopub.status.idle": "2025-06-09T06:25:44.689111Z",
     "shell.execute_reply": "2025-06-09T06:25:44.687957Z",
     "shell.execute_reply.started": "2025-06-09T06:25:44.683552Z"
    },
    "trusted": true
   },
   "outputs": [
    {
     "name": "stdout",
     "output_type": "stream",
     "text": [
      "False\n"
     ]
    }
   ],
   "source": [
    "a=1000\n",
    "b=1000\n",
    "print(a is b)"
   ]
  },
  {
   "cell_type": "code",
   "execution_count": null,
   "metadata": {},
   "outputs": [],
   "source": [
    "\n",
    "fruits = [\n",
    "    [\"apple\",\"banana\"],\n",
    "    [\"apple\",\"banana\"],\n",
    "    [\"apple\",\"banana\"]\n",
    "    ]\n",
    "print(fruits)"
   ]
  }
 ],
 "metadata": {
  "kaggle": {
   "accelerator": "none",
   "dataSources": [],
   "dockerImageVersionId": 31040,
   "isGpuEnabled": false,
   "isInternetEnabled": false,
   "language": "python",
   "sourceType": "notebook"
  },
  "kernelspec": {
   "display_name": "Python 3",
   "language": "python",
   "name": "python3"
  },
  "language_info": {
   "codemirror_mode": {
    "name": "ipython",
    "version": 3
   },
   "file_extension": ".py",
   "mimetype": "text/x-python",
   "name": "python",
   "nbconvert_exporter": "python",
   "pygments_lexer": "ipython3",
   "version": "3.11.11"
  }
 },
 "nbformat": 4,
 "nbformat_minor": 4
}
