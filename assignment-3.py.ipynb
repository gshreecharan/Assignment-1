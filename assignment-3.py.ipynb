{
 "cells": [
  {
   "cell_type": "code",
   "execution_count": null,
   "metadata": {
    "_cell_guid": "b1076dfc-b9ad-4769-8c92-a6c4dae69d19",
    "_uuid": "8f2839f25d086af736a60e9eeb907d3b93b6e0e5",
    "execution": {
     "iopub.execute_input": "2025-06-09T11:41:43.466454Z",
     "iopub.status.busy": "2025-06-09T11:41:43.466224Z",
     "iopub.status.idle": "2025-06-09T11:41:43.476024Z",
     "shell.execute_reply": "2025-06-09T11:41:43.474825Z",
     "shell.execute_reply.started": "2025-06-09T11:41:43.466429Z"
    },
    "trusted": true
   },
   "outputs": [],
   "source": [
    "#1\n",
    "languages = {'python','java','C'}\n",
    "print(\"Favorite programming languages: \",languages)"
   ]
  },
  {
   "cell_type": "code",
   "execution_count": null,
   "metadata": {
    "execution": {
     "iopub.execute_input": "2025-06-11T09:06:03.056169Z",
     "iopub.status.busy": "2025-06-11T09:06:03.055862Z",
     "iopub.status.idle": "2025-06-11T09:06:37.108387Z",
     "shell.execute_reply": "2025-06-11T09:06:37.107180Z",
     "shell.execute_reply.started": "2025-06-11T09:06:03.056146Z"
    },
    "trusted": true
   },
   "outputs": [],
   "source": [
    "#2\n",
    "hobby1=input()\n",
    "v=set(hobby1.split())\n",
    "print(v)"
   ]
  },
  {
   "cell_type": "code",
   "execution_count": null,
   "metadata": {
    "execution": {
     "iopub.execute_input": "2025-06-11T08:59:15.562024Z",
     "iopub.status.busy": "2025-06-11T08:59:15.561681Z",
     "iopub.status.idle": "2025-06-11T08:59:15.566870Z",
     "shell.execute_reply": "2025-06-11T08:59:15.565826Z",
     "shell.execute_reply.started": "2025-06-11T08:59:15.562004Z"
    },
    "trusted": true
   },
   "outputs": [],
   "source": [
    "# 3\n",
    "colors={'red', 'blue', 'green'}\n",
    "colors1={'yellow'}\n",
    "colors.update(colors1)\n",
    "print(colors)"
   ]
  },
  {
   "cell_type": "code",
   "execution_count": null,
   "metadata": {
    "execution": {
     "iopub.execute_input": "2025-06-11T08:59:59.647422Z",
     "iopub.status.busy": "2025-06-11T08:59:59.647077Z",
     "iopub.status.idle": "2025-06-11T08:59:59.653186Z",
     "shell.execute_reply": "2025-06-11T08:59:59.651908Z",
     "shell.execute_reply.started": "2025-06-11T08:59:59.647400Z"
    },
    "trusted": true
   },
   "outputs": [],
   "source": [
    "# 4\n",
    "set1={'apple','banana'}\n",
    "set2={'banana','cherry'}\n",
    "set2.update(set1)\n",
    "print(set2)"
   ]
  },
  {
   "cell_type": "code",
   "execution_count": null,
   "metadata": {
    "execution": {
     "iopub.execute_input": "2025-06-11T09:00:16.883384Z",
     "iopub.status.busy": "2025-06-11T09:00:16.883045Z",
     "iopub.status.idle": "2025-06-11T09:00:16.888565Z",
     "shell.execute_reply": "2025-06-11T09:00:16.887817Z",
     "shell.execute_reply.started": "2025-06-11T09:00:16.883360Z"
    },
    "trusted": true
   },
   "outputs": [],
   "source": [
    "# 5\n",
    "a={'vizag','palasa','hyd'}\n",
    "b={'tirumala'}\n",
    "print(a|b)"
   ]
  },
  {
   "cell_type": "code",
   "execution_count": null,
   "metadata": {
    "execution": {
     "iopub.execute_input": "2025-06-11T09:00:35.969374Z",
     "iopub.status.busy": "2025-06-11T09:00:35.969008Z",
     "iopub.status.idle": "2025-06-11T09:00:35.975067Z",
     "shell.execute_reply": "2025-06-11T09:00:35.973953Z",
     "shell.execute_reply.started": "2025-06-11T09:00:35.969312Z"
    },
    "trusted": true
   },
   "outputs": [],
   "source": [
    "# 6\n",
    "set1={'alex', 'john', 'mike'}\n",
    "set2={'john', 'mike', 'lisa'}\n",
    "print(set1&set2)"
   ]
  },
  {
   "cell_type": "code",
   "execution_count": null,
   "metadata": {
    "execution": {
     "iopub.execute_input": "2025-06-11T09:00:54.684896Z",
     "iopub.status.busy": "2025-06-11T09:00:54.684555Z",
     "iopub.status.idle": "2025-06-11T09:00:54.690850Z",
     "shell.execute_reply": "2025-06-11T09:00:54.689889Z",
     "shell.execute_reply.started": "2025-06-11T09:00:54.684870Z"
    },
    "trusted": true
   },
   "outputs": [],
   "source": [
    "# 7\n",
    "items={'pen','pencil','eraser'}\n",
    "items.discard('pencil')\n",
    "print(items)"
   ]
  },
  {
   "cell_type": "code",
   "execution_count": null,
   "metadata": {
    "execution": {
     "iopub.execute_input": "2025-06-11T09:01:10.902143Z",
     "iopub.status.busy": "2025-06-11T09:01:10.901825Z",
     "iopub.status.idle": "2025-06-11T09:01:10.907634Z",
     "shell.execute_reply": "2025-06-11T09:01:10.906828Z",
     "shell.execute_reply.started": "2025-06-11T09:01:10.902121Z"
    },
    "trusted": true
   },
   "outputs": [],
   "source": [
    "# 8\n",
    "items={'pen','pencil','eraser'}\n",
    "#items.remove('marker')\n",
    "items.discard('marker')\n",
    "print(items)"
   ]
  },
  {
   "cell_type": "code",
   "execution_count": null,
   "metadata": {
    "execution": {
     "iopub.execute_input": "2025-06-11T09:01:28.181064Z",
     "iopub.status.busy": "2025-06-11T09:01:28.180203Z",
     "iopub.status.idle": "2025-06-11T09:01:28.186076Z",
     "shell.execute_reply": "2025-06-11T09:01:28.185110Z",
     "shell.execute_reply.started": "2025-06-11T09:01:28.181033Z"
    },
    "trusted": true
   },
   "outputs": [],
   "source": [
    "# 9\n",
    "weekdays = {'Monday', 'Tuesday', 'Wednesday', 'Thursday', 'Friday'}\n",
    "v=weekdays.pop()\n",
    "print(weekdays)\n",
    "print(v)"
   ]
  },
  {
   "cell_type": "code",
   "execution_count": null,
   "metadata": {
    "execution": {
     "iopub.execute_input": "2025-06-11T09:01:42.468206Z",
     "iopub.status.busy": "2025-06-11T09:01:42.467864Z",
     "iopub.status.idle": "2025-06-11T09:01:42.473378Z",
     "shell.execute_reply": "2025-06-11T09:01:42.472251Z",
     "shell.execute_reply.started": "2025-06-11T09:01:42.468180Z"
    },
    "trusted": true
   },
   "outputs": [],
   "source": [
    "# 10\n",
    "car={'audi','bmw','honda'}\n",
    "car.clear()\n",
    "print(car)"
   ]
  },
  {
   "cell_type": "code",
   "execution_count": null,
   "metadata": {
    "execution": {
     "iopub.execute_input": "2025-06-11T09:02:01.920910Z",
     "iopub.status.busy": "2025-06-11T09:02:01.920626Z",
     "iopub.status.idle": "2025-06-11T09:02:01.999728Z",
     "shell.execute_reply": "2025-06-11T09:02:01.998287Z",
     "shell.execute_reply.started": "2025-06-11T09:02:01.920889Z"
    },
    "trusted": true
   },
   "outputs": [],
   "source": [
    "# 11\n",
    "car={'audi','bmw','honda'}\n",
    "del car\n",
    "print(car)"
   ]
  },
  {
   "cell_type": "code",
   "execution_count": null,
   "metadata": {
    "execution": {
     "iopub.execute_input": "2025-06-11T09:02:19.529150Z",
     "iopub.status.busy": "2025-06-11T09:02:19.528819Z",
     "iopub.status.idle": "2025-06-11T09:02:19.534174Z",
     "shell.execute_reply": "2025-06-11T09:02:19.533140Z",
     "shell.execute_reply.started": "2025-06-11T09:02:19.529129Z"
    },
    "trusted": true
   },
   "outputs": [],
   "source": [
    "# 12\n",
    "set2={'hello'}\n",
    "print(set2)"
   ]
  },
  {
   "cell_type": "code",
   "execution_count": null,
   "metadata": {
    "execution": {
     "iopub.execute_input": "2025-06-11T09:03:03.667541Z",
     "iopub.status.busy": "2025-06-11T09:03:03.667213Z",
     "iopub.status.idle": "2025-06-11T09:03:08.603741Z",
     "shell.execute_reply": "2025-06-11T09:03:08.602987Z",
     "shell.execute_reply.started": "2025-06-11T09:03:03.667519Z"
    },
    "trusted": true
   },
   "outputs": [],
   "source": [
    "# 13\n",
    "words=input().split()\n",
    "v=set(words)\n",
    "print(v)"
   ]
  },
  {
   "cell_type": "code",
   "execution_count": 1,
   "metadata": {
    "execution": {
     "iopub.execute_input": "2025-06-11T09:03:40.158288Z",
     "iopub.status.busy": "2025-06-11T09:03:40.158025Z",
     "iopub.status.idle": "2025-06-11T09:03:40.163634Z",
     "shell.execute_reply": "2025-06-11T09:03:40.162861Z",
     "shell.execute_reply.started": "2025-06-11T09:03:40.158270Z"
    },
    "trusted": true
   },
   "outputs": [
    {
     "name": "stdout",
     "output_type": "stream",
     "text": [
      "{'a', 'b'}\n"
     ]
    }
   ],
   "source": [
    "# 14\n",
    "A={\"a\",\"b\",\"c\"}\n",
    "B={\"c\",\"d\",\"e\"}\n",
    "print(A-B)"
   ]
  },
  {
   "cell_type": "code",
   "execution_count": null,
   "metadata": {
    "execution": {
     "iopub.execute_input": "2025-06-11T09:03:55.849100Z",
     "iopub.status.busy": "2025-06-11T09:03:55.848802Z",
     "iopub.status.idle": "2025-06-11T09:03:55.854285Z",
     "shell.execute_reply": "2025-06-11T09:03:55.853519Z",
     "shell.execute_reply.started": "2025-06-11T09:03:55.849079Z"
    },
    "trusted": true
   },
   "outputs": [],
   "source": [
    "# 15\n",
    "items1={'bed','chair','room'}\n",
    "items1.add('bedroom')\n",
    "print(len(items1))"
   ]
  }
 ],
 "metadata": {
  "kaggle": {
   "accelerator": "none",
   "dataSources": [],
   "dockerImageVersionId": 31040,
   "isGpuEnabled": false,
   "isInternetEnabled": false,
   "language": "python",
   "sourceType": "notebook"
  },
  "kernelspec": {
   "display_name": ".venv",
   "language": "python",
   "name": "python3"
  },
  "language_info": {
   "codemirror_mode": {
    "name": "ipython",
    "version": 3
   },
   "file_extension": ".py",
   "mimetype": "text/x-python",
   "name": "python",
   "nbconvert_exporter": "python",
   "pygments_lexer": "ipython3",
   "version": "3.13.5"
  }
 },
 "nbformat": 4,
 "nbformat_minor": 4
}
